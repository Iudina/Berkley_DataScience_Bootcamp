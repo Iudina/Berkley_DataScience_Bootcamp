{
 "cells": [
  {
   "cell_type": "markdown",
   "metadata": {},
   "source": [
    "# Misson to Mars"
   ]
  },
  {
   "cell_type": "markdown",
   "metadata": {},
   "source": [
    "## <font color= blue> 1. Initial scraping using BeautifulSoup, Pandas, and Requests/Splinter."
   ]
  },
  {
   "cell_type": "code",
   "execution_count": 35,
   "metadata": {},
   "outputs": [],
   "source": [
    "#import libraries\n",
    "from splinter import Browser\n",
    "from bs4 import BeautifulSoup\n",
    "import requests"
   ]
  },
  {
   "cell_type": "code",
   "execution_count": 36,
   "metadata": {},
   "outputs": [
    {
     "name": "stdout",
     "output_type": "stream",
     "text": [
      "/usr/local/bin/chromedriver\r\n"
     ]
    }
   ],
   "source": [
    "!which chromedriver"
   ]
  },
  {
   "cell_type": "markdown",
   "metadata": {},
   "source": [
    "### 1.1 Scrape the NASA Mars News Site and collect the latest News Title and Paragraph Text"
   ]
  },
  {
   "cell_type": "code",
   "execution_count": 58,
   "metadata": {},
   "outputs": [
    {
     "name": "stdout",
     "output_type": "stream",
     "text": [
      "MarCO Makes Space for Small Explorers\n",
      "A pair of NASA CubeSats flying to Mars are opening a new frontier for small spacecraft.\n"
     ]
    }
   ],
   "source": [
    "# establish connection with the browser\n",
    "executable_path = {'executable_path': '/usr/local/bin/chromedriver'}\n",
    "browser = Browser('chrome', **executable_path, headless=False)\n",
    "\n",
    "news_url = 'https://mars.nasa.gov/news/?page=0&per_page=40&order=publish_date+desc%2Ccreated_at+desc&search=&category=19%2C165%2C184%2C204&blank_scope=Latest'\n",
    "browser.visit(news_url)\n",
    "\n",
    "news_title = None\n",
    "news_p = None\n",
    "\n",
    "# NASA site works with error (it is a beta-version as it is mentioned in the head of site). \n",
    "# It returns an error sometimes because of partial loading. This cycle makes three attempts to reload browser.\n",
    "# browser.status_code.is_success() # True <<Not working for this Splinter version\n",
    "# browser.status_code == 200 # True <<Not working for this Splinter version\n",
    "# Thus error handling was made for 'List Index out of range'\n",
    "\n",
    "retry = 3\n",
    "while retry != 0:\n",
    "    retry -= 1\n",
    "    try:\n",
    "        html = browser.html\n",
    "        soup0 = BeautifulSoup(html, 'html.parser')\n",
    "\n",
    "        # Choose the latest news \n",
    "        news_title = soup0.find_all('div', class_=\"content_title\")[0].text\n",
    "        news_p = soup0.find_all('div', class_=\"article_teaser_body\")[0].text\n",
    "        break\n",
    "    except:\n",
    "        print(\"request failed\")\n",
    "        browser.reload()    \n",
    "\n",
    "browser.quit()\n",
    "\n",
    "print(news_title)\n",
    "print(news_p)"
   ]
  },
  {
   "cell_type": "markdown",
   "metadata": {},
   "source": [
    "### 1.2 Scrape images"
   ]
  },
  {
   "cell_type": "code",
   "execution_count": 4,
   "metadata": {},
   "outputs": [
    {
     "name": "stdout",
     "output_type": "stream",
     "text": [
      "https://www.jpl.nasa.gov/spaceimages/images/largesize/PIA22669_hires.jpg\n"
     ]
    }
   ],
   "source": [
    "img_url = 'https://www.jpl.nasa.gov/spaceimages/?search=&category=Mars'\n",
    "response1 = requests.get(img_url)\n",
    "soup1 = BeautifulSoup(response1.text, 'html.parser')\n",
    "\n",
    "# Using bs4 we extracted relative links to compressed images\n",
    "images = soup1.find_all('img', class_=\"thumb\")\n",
    "\n",
    "# With split method we reconstructed the url to a full sized images using the extracted number of picture\n",
    "img_list = []\n",
    "for image in images[:30]:\n",
    "    img_name = str(image['src']).split('/')[4].split('-')[0]\n",
    "    img_url = 'https://www.jpl.nasa.gov/spaceimages/images/largesize/' + img_name + '_hires.jpg'\n",
    "    img_list.append(img_url)\n",
    "\n",
    "# Let random choose picture\n",
    "import random\n",
    "featured_image_url = random.choice(img_list)\n",
    "print(featured_image_url)  \n"
   ]
  },
  {
   "cell_type": "markdown",
   "metadata": {},
   "source": [
    "### 1.3 Scrape the latest Mars weather from the Mars Weather twitter account"
   ]
  },
  {
   "cell_type": "code",
   "execution_count": 5,
   "metadata": {},
   "outputs": [
    {
     "name": "stdout",
     "output_type": "stream",
     "text": [
      "Sol 2169 (2018-09-12), high -10C/14F, low -70C/-93F, pressure at 8.82 hPa, daylight 05:41-17:58\n"
     ]
    }
   ],
   "source": [
    "twitter_url = 'https://twitter.com/marswxreport?lang=en'\n",
    "response2 = requests.get(twitter_url)\n",
    "soup2 = BeautifulSoup(response2.text, 'html.parser')\n",
    "\n",
    "tweets  = soup2.find_all('p', class_=\"js-tweet-text\")\n",
    "\n",
    "# Choose tweet with weather\n",
    "for tweet in tweets:\n",
    "    if tweet.text.startswith('Sol '):\n",
    "        mars_weather = tweet.text\n",
    "        print(mars_weather)\n",
    "        break"
   ]
  },
  {
   "cell_type": "markdown",
   "metadata": {},
   "source": [
    "### 1.4 Mars facts"
   ]
  },
  {
   "cell_type": "code",
   "execution_count": 6,
   "metadata": {},
   "outputs": [
    {
     "data": {
      "text/html": [
       "<div>\n",
       "<style scoped>\n",
       "    .dataframe tbody tr th:only-of-type {\n",
       "        vertical-align: middle;\n",
       "    }\n",
       "\n",
       "    .dataframe tbody tr th {\n",
       "        vertical-align: top;\n",
       "    }\n",
       "\n",
       "    .dataframe thead th {\n",
       "        text-align: right;\n",
       "    }\n",
       "</style>\n",
       "<table border=\"1\" class=\"dataframe\">\n",
       "  <thead>\n",
       "    <tr style=\"text-align: right;\">\n",
       "      <th></th>\n",
       "      <th>Value</th>\n",
       "    </tr>\n",
       "    <tr>\n",
       "      <th>Description</th>\n",
       "      <th></th>\n",
       "    </tr>\n",
       "  </thead>\n",
       "  <tbody>\n",
       "    <tr>\n",
       "      <th>Equatorial Diameter:</th>\n",
       "      <td>6,792 km</td>\n",
       "    </tr>\n",
       "    <tr>\n",
       "      <th>Polar Diameter:</th>\n",
       "      <td>6,752 km</td>\n",
       "    </tr>\n",
       "    <tr>\n",
       "      <th>Mass:</th>\n",
       "      <td>6.42 x 10^23 kg (10.7% Earth)</td>\n",
       "    </tr>\n",
       "    <tr>\n",
       "      <th>Moons:</th>\n",
       "      <td>2 (Phobos &amp; Deimos)</td>\n",
       "    </tr>\n",
       "    <tr>\n",
       "      <th>Orbit Distance:</th>\n",
       "      <td>227,943,824 km (1.52 AU)</td>\n",
       "    </tr>\n",
       "    <tr>\n",
       "      <th>Orbit Period:</th>\n",
       "      <td>687 days (1.9 years)</td>\n",
       "    </tr>\n",
       "    <tr>\n",
       "      <th>Surface Temperature:</th>\n",
       "      <td>-153 to 20 °C</td>\n",
       "    </tr>\n",
       "    <tr>\n",
       "      <th>First Record:</th>\n",
       "      <td>2nd millennium BC</td>\n",
       "    </tr>\n",
       "    <tr>\n",
       "      <th>Recorded By:</th>\n",
       "      <td>Egyptian astronomers</td>\n",
       "    </tr>\n",
       "  </tbody>\n",
       "</table>\n",
       "</div>"
      ],
      "text/plain": [
       "                                              Value\n",
       "Description                                        \n",
       "Equatorial Diameter:                       6,792 km\n",
       "Polar Diameter:                            6,752 km\n",
       "Mass:                 6.42 x 10^23 kg (10.7% Earth)\n",
       "Moons:                          2 (Phobos & Deimos)\n",
       "Orbit Distance:            227,943,824 km (1.52 AU)\n",
       "Orbit Period:                  687 days (1.9 years)\n",
       "Surface Temperature:                  -153 to 20 °C\n",
       "First Record:                     2nd millennium BC\n",
       "Recorded By:                   Egyptian astronomers"
      ]
     },
     "execution_count": 6,
     "metadata": {},
     "output_type": "execute_result"
    }
   ],
   "source": [
    "# Use Pandas to scrape the table containing facts about the planet including Diameter, Mass, etc.\n",
    "import pandas as pd\n",
    "\n",
    "facts_url = 'https://space-facts.com/mars/'\n",
    "df = pd.read_html(facts_url)[0]\n",
    "\n",
    "df.columns = ['Description', 'Value']\n",
    "df.set_index(\"Description\", inplace=True)\n",
    "df"
   ]
  },
  {
   "cell_type": "code",
   "execution_count": 7,
   "metadata": {},
   "outputs": [],
   "source": [
    "# Use Pandas to convert the data to a HTML table string.\n",
    "html_table = df.to_html()\n",
    "html_table\n",
    "df.to_html('table.html')"
   ]
  },
  {
   "cell_type": "markdown",
   "metadata": {},
   "source": [
    "### 1.5 Mars Hemispheres"
   ]
  },
  {
   "cell_type": "markdown",
   "metadata": {},
   "source": [
    "#### Note: I used approach where browser uses initial URL and than with nested for-loop navigates to a page with each hemisphere to withdraw image URL and after that goes back to switch to another hemisphere."
   ]
  },
  {
   "cell_type": "code",
   "execution_count": 8,
   "metadata": {},
   "outputs": [
    {
     "name": "stdout",
     "output_type": "stream",
     "text": [
      "[{'title': 'Cerberus Hemisphere', 'img_url': 'http://astropedia.astrogeology.usgs.gov/download/Mars/Viking/cerberus_enhanced.tif/full.jpg'}, {'title': 'Schiaparelli Hemisphere', 'img_url': 'http://astropedia.astrogeology.usgs.gov/download/Mars/Viking/schiaparelli_enhanced.tif/full.jpg'}, {'title': 'Syrtis Major Hemisphere', 'img_url': 'http://astropedia.astrogeology.usgs.gov/download/Mars/Viking/syrtis_major_enhanced.tif/full.jpg'}, {'title': 'Valles Marineris Hemisphere', 'img_url': 'http://astropedia.astrogeology.usgs.gov/download/Mars/Viking/valles_marineris_enhanced.tif/full.jpg'}]\n"
     ]
    }
   ],
   "source": [
    "# Visit the USGS Astrogeology site to obtain high resolution images for each of Mar's hemispheres.\n",
    "# Click each of the links to the hemispheres in order to find the image url to the full resolution image.\n",
    "# Save both the image url string for the full resolution hemisphere image, and the Hemisphere title containing \n",
    "# the hemisphere name. Use a Python dictionary to store the data using the keys img_url and title.\n",
    "# Append the dictionary with the image url string and the hemisphere title to a list. \n",
    "# This list will contain one dictionary for each hemisphere.\n",
    "\n",
    "# establish connection with the browser\n",
    "executable_path = {'executable_path': '/usr/local/bin/chromedriver'}\n",
    "browser = Browser('chrome', **executable_path, headless=False)\n",
    "\n",
    "\n",
    "url_hemisph = 'https://astrogeology.usgs.gov/search/results?q=hemisphere+enhanced&k1=target&v1=Mars'\n",
    "browser.visit(url_hemisph)\n",
    "  \n",
    "hemisphere_image_urls = []\n",
    "# Create bs4 object of parced out html\n",
    "soup = BeautifulSoup(browser.html, 'html.parser')\n",
    "\n",
    "# Scrape names of hemispheres\n",
    "h_names = soup.find_all('h3')\n",
    "for h_name in h_names:\n",
    "\n",
    "    browser.click_link_by_partial_text(h_name.text) # Follow link to page with a particular Hemisphere\n",
    "    h_name = h_name.text.replace(' Enhanced','')\n",
    "    \n",
    "    soup = BeautifulSoup(browser.html, 'html.parser') # Create new bs4 object of a current page\n",
    "\n",
    "    find_a = soup.find_all('a') # Find all <a> - tags containing \"Sample\" text - this is a link to an image\n",
    "    \n",
    "    for img_url in find_a:\n",
    "\n",
    "        if (img_url.text == \"Sample\"):\n",
    "            x = img_url['href'] # Withdraw img source\n",
    "            a = {\"title\": h_name, \"img_url\": x} # Store values in dictionary\n",
    "          \n",
    "    browser.back()\n",
    "    hemisphere_image_urls.append(a) # Append dictionary to a list\n",
    "browser.quit()      \n",
    "print(hemisphere_image_urls)        "
   ]
  },
  {
   "cell_type": "code",
   "execution_count": 26,
   "metadata": {},
   "outputs": [
    {
     "name": "stdout",
     "output_type": "stream",
     "text": [
      "{'facts': {'Equatorial Diameter:': '6,792 km',\n",
      "           'First Record:': '2nd millennium BC',\n",
      "           'Mass:': '6.42 x 10^23 kg (10.7% Earth)',\n",
      "           'Moons:': '2 (Phobos & Deimos)',\n",
      "           'Orbit Distance:': '227,943,824 km (1.52 AU)',\n",
      "           'Orbit Period:': '687 days (1.9 years)',\n",
      "           'Polar Diameter:': '6,752 km',\n",
      "           'Recorded By:': 'Egyptian astronomers',\n",
      "           'Surface Temperature:': '-153 to 20 °C'},\n",
      " 'featured_image_url': 'https://www.jpl.nasa.gov/spaceimages/images/largesize/PIA22669_hires.jpg',\n",
      " 'hemispheres': [{'img_url': 'http://astropedia.astrogeology.usgs.gov/download/Mars/Viking/cerberus_enhanced.tif/full.jpg',\n",
      "                  'title': 'Cerberus Hemisphere'},\n",
      "                 {'img_url': 'http://astropedia.astrogeology.usgs.gov/download/Mars/Viking/schiaparelli_enhanced.tif/full.jpg',\n",
      "                  'title': 'Schiaparelli Hemisphere'},\n",
      "                 {'img_url': 'http://astropedia.astrogeology.usgs.gov/download/Mars/Viking/syrtis_major_enhanced.tif/full.jpg',\n",
      "                  'title': 'Syrtis Major Hemisphere'},\n",
      "                 {'img_url': 'http://astropedia.astrogeology.usgs.gov/download/Mars/Viking/valles_marineris_enhanced.tif/full.jpg',\n",
      "                  'title': 'Valles Marineris Hemisphere'}],\n",
      " 'mars_weather': 'Sol 2169 (2018-09-12), high -10C/14F, low -70C/-93F, '\n",
      "                 'pressure at 8.82 hPa, daylight 05:41-17:58',\n",
      " 'news_paragraph': 'Sept. 17, 2018 - Members of NASA’s New Horizons spacecraft '\n",
      "                   'team will host a Science Chat at 1 p.m. EDT Wednesday, '\n",
      "                   'Sept. 19, on humanity’s farthest planetary flyby, '\n",
      "                   'scheduled to occur Jan. 1 when the spacecraft encounters a '\n",
      "                   'mysterious object in the Kuiper Belt nicknamed “Ultima '\n",
      "                   'Thule.”',\n",
      " 'news_title': 'NASA Hosts Science Chat on Upcoming Historic Planetary '\n",
      "               'Encounter'}\n"
     ]
    }
   ],
   "source": [
    "# create one python dictionary containing all data\n",
    "facts = df.to_dict()\n",
    "\n",
    "dictionary = {'news_title': news_title, 'news_paragraph': news_p, 'featured_image_url': \n",
    "              featured_image_url, 'mars_weather': mars_weather, 'facts': df, 'hemispheres': hemisphere_image_urls,\n",
    "              'facts': facts['Value']\n",
    "             }\n",
    "\n",
    "import pprint\n",
    "pprint.pprint(dictionary)"
   ]
  },
  {
   "cell_type": "code",
   "execution_count": null,
   "metadata": {},
   "outputs": [],
   "source": []
  },
  {
   "cell_type": "code",
   "execution_count": null,
   "metadata": {},
   "outputs": [],
   "source": []
  },
  {
   "cell_type": "code",
   "execution_count": null,
   "metadata": {},
   "outputs": [],
   "source": []
  }
 ],
 "metadata": {
  "kernelspec": {
   "display_name": "Python 3",
   "language": "python",
   "name": "python3"
  },
  "language_info": {
   "codemirror_mode": {
    "name": "ipython",
    "version": 3
   },
   "file_extension": ".py",
   "mimetype": "text/x-python",
   "name": "python",
   "nbconvert_exporter": "python",
   "pygments_lexer": "ipython3",
   "version": "3.6.4"
  }
 },
 "nbformat": 4,
 "nbformat_minor": 2
}
